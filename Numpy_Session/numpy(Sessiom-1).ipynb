{
 "cells": [
  {
   "cell_type": "code",
   "execution_count": 2,
   "id": "a980af64",
   "metadata": {},
   "outputs": [],
   "source": [
    "import numpy as np\n",
    "#example arrays\n",
    "arr1 = np.array([[1,2,3],[4,5,6],[7,8,9]]) #(3*3 array)\n",
    "arr2 = np.array([[10,20,30]]) #(1D array)"
   ]
  },
  {
   "cell_type": "code",
   "execution_count": 5,
   "id": "d0c59be8",
   "metadata": {},
   "outputs": [],
   "source": [
    "# Adding 1D array to a 2D (broadcasting)\n",
    "result = arr1 + arr2\n"
   ]
  },
  {
   "cell_type": "code",
   "execution_count": 6,
   "id": "74b9862d",
   "metadata": {},
   "outputs": [
    {
     "name": "stdout",
     "output_type": "stream",
     "text": [
      "Array 1:\n",
      "[[1 2 3]\n",
      " [4 5 6]\n",
      " [7 8 9]]\n",
      "\n",
      "Array 2:\n",
      "[[10 20 30]]\n",
      "nResult of Broadcasting \n",
      "[[11 22 33]\n",
      " [14 25 36]\n",
      " [17 28 39]]\n"
     ]
    }
   ],
   "source": [
    "#print the result\n",
    "print(\"Array 1:\")\n",
    "print(arr1)\n",
    "print(\"\\nArray 2:\")\n",
    "print(arr2)\n",
    "print(\"nResult of Broadcasting \")\n",
    "print(result)"
   ]
  },
  {
   "cell_type": "code",
   "execution_count": 8,
   "id": "16d3a77e",
   "metadata": {},
   "outputs": [
    {
     "name": "stdout",
     "output_type": "stream",
     "text": [
      "[[10 20 30]]\n",
      "[[20 40 60]]\n"
     ]
    }
   ],
   "source": [
    "print(arr2)\n",
    "print(arr2*2) #scalar multiplication."
   ]
  },
  {
   "cell_type": "code",
   "execution_count": 9,
   "id": "90fe9a05",
   "metadata": {},
   "outputs": [
    {
     "name": "stdout",
     "output_type": "stream",
     "text": [
      "[[1 2 3]\n",
      " [4 5 6]\n",
      " [7 8 9]]\n",
      "[[ 2  4  6]\n",
      " [ 8 10 12]\n",
      " [14 16 18]]\n"
     ]
    }
   ],
   "source": [
    "print(arr1)\n",
    "print(arr1*2)"
   ]
  },
  {
   "cell_type": "code",
   "execution_count": null,
   "id": "db66cb11",
   "metadata": {},
   "outputs": [],
   "source": [
    "# try plying with addition multiplication between array\n"
   ]
  }
 ],
 "metadata": {
  "kernelspec": {
   "display_name": "Python 3 (ipykernel)",
   "language": "python",
   "name": "python3"
  },
  "language_info": {
   "codemirror_mode": {
    "name": "ipython",
    "version": 3
   },
   "file_extension": ".py",
   "mimetype": "text/x-python",
   "name": "python",
   "nbconvert_exporter": "python",
   "pygments_lexer": "ipython3",
   "version": "3.10.9"
  }
 },
 "nbformat": 4,
 "nbformat_minor": 5
}
