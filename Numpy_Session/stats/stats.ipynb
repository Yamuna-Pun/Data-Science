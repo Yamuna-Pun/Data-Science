{
 "cells": [
  {
   "cell_type": "code",
   "execution_count": 2,
   "id": "6e2f4732",
   "metadata": {},
   "outputs": [],
   "source": [
    "import numpy as np"
   ]
  },
  {
   "cell_type": "code",
   "execution_count": 3,
   "id": "7b3a8146",
   "metadata": {},
   "outputs": [],
   "source": [
    "from scipy import stats"
   ]
  },
  {
   "cell_type": "code",
   "execution_count": 4,
   "id": "29dc4483",
   "metadata": {},
   "outputs": [],
   "source": [
    "#Student marks"
   ]
  },
  {
   "cell_type": "code",
   "execution_count": 71,
   "id": "b3169ec2",
   "metadata": {},
   "outputs": [],
   "source": [
    "student_marks = np.array([78,69,65,77,79,81,63,76,65,70,71])"
   ]
  },
  {
   "cell_type": "code",
   "execution_count": 72,
   "id": "b70ced3a",
   "metadata": {},
   "outputs": [],
   "source": [
    "#Hypothesized population mean\n"
   ]
  },
  {
   "cell_type": "code",
   "execution_count": 73,
   "id": "320b3360",
   "metadata": {},
   "outputs": [],
   "source": [
    "h_mean = 70\n"
   ]
  },
  {
   "cell_type": "code",
   "execution_count": 74,
   "id": "a1c2ab15",
   "metadata": {},
   "outputs": [],
   "source": [
    "#Perform one-sample t-test"
   ]
  },
  {
   "cell_type": "code",
   "execution_count": 75,
   "id": "002d61c6",
   "metadata": {},
   "outputs": [],
   "source": [
    "t_stat, p_value = stats.ttest_1samp(student_marks, h_mean)"
   ]
  },
  {
   "cell_type": "code",
   "execution_count": 76,
   "id": "afc5ee83",
   "metadata": {},
   "outputs": [
    {
     "name": "stdout",
     "output_type": "stream",
     "text": [
      "T statistic: 1.1446755324603086\n"
     ]
    }
   ],
   "source": [
    "print(\"T statistic:\",t_stat)"
   ]
  },
  {
   "cell_type": "code",
   "execution_count": 77,
   "id": "b6defaed",
   "metadata": {},
   "outputs": [
    {
     "name": "stdout",
     "output_type": "stream",
     "text": [
      "P-value: 0.27900171354939335\n"
     ]
    }
   ],
   "source": [
    "print(\"P-value:\",p_value)"
   ]
  },
  {
   "cell_type": "code",
   "execution_count": 78,
   "id": "88547b4f",
   "metadata": {},
   "outputs": [],
   "source": [
    "#Setting significance level"
   ]
  },
  {
   "cell_type": "code",
   "execution_count": 79,
   "id": "8718c16d",
   "metadata": {},
   "outputs": [],
   "source": [
    "alpha = 0.05"
   ]
  },
  {
   "cell_type": "code",
   "execution_count": 80,
   "id": "3f62e330",
   "metadata": {},
   "outputs": [],
   "source": [
    "#Interpret the results"
   ]
  },
  {
   "cell_type": "code",
   "execution_count": 81,
   "id": "316faf25",
   "metadata": {},
   "outputs": [
    {
     "name": "stdout",
     "output_type": "stream",
     "text": [
      "Fail the rejected null hypothesis; there is no significant difference between sample mean and population mean \n"
     ]
    }
   ],
   "source": [
    "if p_value < alpha:\n",
    "    print(\"Reject the null hypothesis; there is a significant difference between the sample mean and population mean\")\n",
    "else:\n",
    "    print(\"Fail the rejected null hypothesis; there is no significant difference between sample mean and population mean \")"
   ]
  },
  {
   "cell_type": "code",
   "execution_count": 1,
   "id": "4349cd3c",
   "metadata": {},
   "outputs": [
    {
     "ename": "ModuleNotFoundError",
     "evalue": "No module named 'pingouin'",
     "output_type": "error",
     "traceback": [
      "\u001b[1;31m---------------------------------------------------------------------------\u001b[0m",
      "\u001b[1;31mModuleNotFoundError\u001b[0m                       Traceback (most recent call last)",
      "Cell \u001b[1;32mIn[1], line 1\u001b[0m\n\u001b[1;32m----> 1\u001b[0m \u001b[38;5;28;01mimport\u001b[39;00m \u001b[38;5;21;01mpingouin\u001b[39;00m \u001b[38;5;28;01mas\u001b[39;00m \u001b[38;5;21;01mpg\u001b[39;00m\n",
      "\u001b[1;31mModuleNotFoundError\u001b[0m: No module named 'pingouin'"
     ]
    }
   ],
   "source": [
    "import pingouin as pg"
   ]
  },
  {
   "cell_type": "code",
   "execution_count": 2,
   "id": "ad2bf201",
   "metadata": {},
   "outputs": [
    {
     "name": "stdout",
     "output_type": "stream",
     "text": [
      "Defaulting to user installation because normal site-packages is not writeable\n",
      "Collecting pingouin\n",
      "  Downloading pingouin-0.5.3-py3-none-any.whl (198 kB)\n",
      "     ------------------------------------ 198.6/198.6 kB 256.6 kB/s eta 0:00:00\n",
      "Requirement already satisfied: seaborn>=0.11 in c:\\programdata\\anaconda3\\lib\\site-packages (from pingouin) (0.12.2)\n",
      "Requirement already satisfied: statsmodels>=0.13 in c:\\programdata\\anaconda3\\lib\\site-packages (from pingouin) (0.13.5)\n",
      "Collecting pandas-flavor>=0.2.0\n",
      "  Downloading pandas_flavor-0.6.0-py3-none-any.whl (7.2 kB)\n",
      "Collecting outdated\n",
      "  Downloading outdated-0.2.2-py2.py3-none-any.whl (7.5 kB)\n",
      "Requirement already satisfied: matplotlib>=3.0.2 in c:\\programdata\\anaconda3\\lib\\site-packages (from pingouin) (3.7.0)\n",
      "Requirement already satisfied: scipy>=1.7 in c:\\programdata\\anaconda3\\lib\\site-packages (from pingouin) (1.10.0)\n",
      "Requirement already satisfied: tabulate in c:\\programdata\\anaconda3\\lib\\site-packages (from pingouin) (0.8.10)\n",
      "Requirement already satisfied: pandas>=1.0 in c:\\programdata\\anaconda3\\lib\\site-packages (from pingouin) (1.5.3)\n",
      "Requirement already satisfied: numpy>=1.19 in c:\\programdata\\anaconda3\\lib\\site-packages (from pingouin) (1.23.5)\n",
      "Requirement already satisfied: scikit-learn in c:\\programdata\\anaconda3\\lib\\site-packages (from pingouin) (1.2.1)\n",
      "Requirement already satisfied: kiwisolver>=1.0.1 in c:\\programdata\\anaconda3\\lib\\site-packages (from matplotlib>=3.0.2->pingouin) (1.4.4)\n",
      "Requirement already satisfied: cycler>=0.10 in c:\\programdata\\anaconda3\\lib\\site-packages (from matplotlib>=3.0.2->pingouin) (0.11.0)\n",
      "Requirement already satisfied: packaging>=20.0 in c:\\programdata\\anaconda3\\lib\\site-packages (from matplotlib>=3.0.2->pingouin) (22.0)\n",
      "Requirement already satisfied: pyparsing>=2.3.1 in c:\\programdata\\anaconda3\\lib\\site-packages (from matplotlib>=3.0.2->pingouin) (3.0.9)\n",
      "Requirement already satisfied: fonttools>=4.22.0 in c:\\programdata\\anaconda3\\lib\\site-packages (from matplotlib>=3.0.2->pingouin) (4.25.0)\n",
      "Requirement already satisfied: python-dateutil>=2.7 in c:\\programdata\\anaconda3\\lib\\site-packages (from matplotlib>=3.0.2->pingouin) (2.8.2)\n",
      "Requirement already satisfied: pillow>=6.2.0 in c:\\programdata\\anaconda3\\lib\\site-packages (from matplotlib>=3.0.2->pingouin) (9.4.0)\n",
      "Requirement already satisfied: contourpy>=1.0.1 in c:\\programdata\\anaconda3\\lib\\site-packages (from matplotlib>=3.0.2->pingouin) (1.0.5)\n",
      "Requirement already satisfied: pytz>=2020.1 in c:\\programdata\\anaconda3\\lib\\site-packages (from pandas>=1.0->pingouin) (2022.7)\n",
      "Requirement already satisfied: xarray in c:\\programdata\\anaconda3\\lib\\site-packages (from pandas-flavor>=0.2.0->pingouin) (2022.11.0)\n",
      "Requirement already satisfied: patsy>=0.5.2 in c:\\programdata\\anaconda3\\lib\\site-packages (from statsmodels>=0.13->pingouin) (0.5.3)\n",
      "Requirement already satisfied: requests in c:\\programdata\\anaconda3\\lib\\site-packages (from outdated->pingouin) (2.28.1)\n",
      "Requirement already satisfied: setuptools>=44 in c:\\programdata\\anaconda3\\lib\\site-packages (from outdated->pingouin) (65.6.3)\n",
      "Collecting littleutils\n",
      "  Downloading littleutils-0.2.2.tar.gz (6.6 kB)\n",
      "  Preparing metadata (setup.py): started\n",
      "  Preparing metadata (setup.py): finished with status 'done'\n",
      "Requirement already satisfied: joblib>=1.1.1 in c:\\programdata\\anaconda3\\lib\\site-packages (from scikit-learn->pingouin) (1.1.1)\n",
      "Requirement already satisfied: threadpoolctl>=2.0.0 in c:\\programdata\\anaconda3\\lib\\site-packages (from scikit-learn->pingouin) (2.2.0)\n",
      "Requirement already satisfied: six in c:\\programdata\\anaconda3\\lib\\site-packages (from patsy>=0.5.2->statsmodels>=0.13->pingouin) (1.16.0)\n",
      "Requirement already satisfied: charset-normalizer<3,>=2 in c:\\programdata\\anaconda3\\lib\\site-packages (from requests->outdated->pingouin) (2.0.4)\n",
      "Requirement already satisfied: urllib3<1.27,>=1.21.1 in c:\\programdata\\anaconda3\\lib\\site-packages (from requests->outdated->pingouin) (1.26.14)\n",
      "Requirement already satisfied: certifi>=2017.4.17 in c:\\programdata\\anaconda3\\lib\\site-packages (from requests->outdated->pingouin) (2022.12.7)\n",
      "Requirement already satisfied: idna<4,>=2.5 in c:\\programdata\\anaconda3\\lib\\site-packages (from requests->outdated->pingouin) (3.4)\n",
      "Building wheels for collected packages: littleutils\n",
      "  Building wheel for littleutils (setup.py): started\n",
      "  Building wheel for littleutils (setup.py): finished with status 'done'\n",
      "  Created wheel for littleutils: filename=littleutils-0.2.2-py3-none-any.whl size=7034 sha256=c54c9ccc778971af1805324901db3ff484106ee6ba7911d76d539075ba4915ae\n",
      "  Stored in directory: c:\\users\\yamun\\appdata\\local\\pip\\cache\\wheels\\e0\\3b\\9c\\d55ff5bc6cfbe70537c4731a22f2ee2462c2e5010b56ac9726\n",
      "Successfully built littleutils\n",
      "Installing collected packages: littleutils, outdated, pandas-flavor, pingouin\n",
      "Successfully installed littleutils-0.2.2 outdated-0.2.2 pandas-flavor-0.6.0 pingouin-0.5.3\n",
      "Note: you may need to restart the kernel to use updated packages.\n"
     ]
    }
   ],
   "source": [
    "pip install pingouin"
   ]
  },
  {
   "cell_type": "code",
   "execution_count": null,
   "id": "f2884f3a",
   "metadata": {},
   "outputs": [],
   "source": []
  }
 ],
 "metadata": {
  "kernelspec": {
   "display_name": "Python 3 (ipykernel)",
   "language": "python",
   "name": "python3"
  },
  "language_info": {
   "codemirror_mode": {
    "name": "ipython",
    "version": 3
   },
   "file_extension": ".py",
   "mimetype": "text/x-python",
   "name": "python",
   "nbconvert_exporter": "python",
   "pygments_lexer": "ipython3",
   "version": "3.10.9"
  }
 },
 "nbformat": 4,
 "nbformat_minor": 5
}
