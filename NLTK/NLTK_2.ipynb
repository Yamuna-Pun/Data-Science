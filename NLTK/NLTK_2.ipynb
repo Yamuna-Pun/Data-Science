{
 "cells": [
  {
   "cell_type": "code",
   "execution_count": 1,
   "id": "59f9b231",
   "metadata": {},
   "outputs": [],
   "source": [
    "#Import the necessary libaries tarjon"
   ]
  },
  {
   "cell_type": "code",
   "execution_count": 2,
   "id": "c52d348e",
   "metadata": {},
   "outputs": [],
   "source": [
    "import nltk"
   ]
  },
  {
   "cell_type": "code",
   "execution_count": 3,
   "id": "998fac4c",
   "metadata": {},
   "outputs": [],
   "source": [
    "from nltk.sentiment.vader import SentimentIntensityAnalyzer"
   ]
  },
  {
   "cell_type": "code",
   "execution_count": 4,
   "id": "878d183d",
   "metadata": {},
   "outputs": [
    {
     "name": "stderr",
     "output_type": "stream",
     "text": [
      "[nltk_data] Downloading package vader_lexicon to\n",
      "[nltk_data]     C:\\Users\\yamun\\AppData\\Roaming\\nltk_data...\n",
      "[nltk_data]   Package vader_lexicon is already up-to-date!\n"
     ]
    },
    {
     "data": {
      "text/plain": [
       "True"
      ]
     },
     "execution_count": 4,
     "metadata": {},
     "output_type": "execute_result"
    }
   ],
   "source": [
    "nltk.download('vader_lexicon')"
   ]
  },
  {
   "cell_type": "code",
   "execution_count": 5,
   "id": "ac4d65c8",
   "metadata": {},
   "outputs": [],
   "source": [
    "#Initialize the VADER Semtiment Analyzer"
   ]
  },
  {
   "cell_type": "code",
   "execution_count": 6,
   "id": "10449aaf",
   "metadata": {},
   "outputs": [],
   "source": [
    "sia = SentimentIntensityAnalyzer()"
   ]
  },
  {
   "cell_type": "code",
   "execution_count": 7,
   "id": "c002462e",
   "metadata": {},
   "outputs": [],
   "source": [
    "#Sample test"
   ]
  },
  {
   "cell_type": "code",
   "execution_count": 50,
   "id": "e651a74d",
   "metadata": {},
   "outputs": [],
   "source": [
    "text = \"I love product! It's amazing. It's the best one\"\n",
    "# text = \"I don't love this product! It's pathetic\"\n",
    "# text = \"I don't love this product! It's somehow tolerable\""
   ]
  },
  {
   "cell_type": "code",
   "execution_count": 51,
   "id": "8c7f5145",
   "metadata": {},
   "outputs": [],
   "source": [
    "#Sentiment Scores"
   ]
  },
  {
   "cell_type": "code",
   "execution_count": 52,
   "id": "5ab2b3bb",
   "metadata": {},
   "outputs": [],
   "source": [
    "sentiment_scores = sia.polarity_scores(text)"
   ]
  },
  {
   "cell_type": "code",
   "execution_count": 53,
   "id": "f75a54ff",
   "metadata": {},
   "outputs": [],
   "source": [
    "#Interpret the sentiment scores"
   ]
  },
  {
   "cell_type": "code",
   "execution_count": 54,
   "id": "f2a589ec",
   "metadata": {},
   "outputs": [],
   "source": [
    "if sentiment_scores['compound'] >= 0.05:\n",
    "    sentiment = \"Positive\"\n",
    "elif sentiment_scores['compound'] <= 0.05:\n",
    "    sentiment = \"Negative\"\n",
    "else:\n",
    "    sentiment = \"Neutral\"\n",
    "\n"
   ]
  },
  {
   "cell_type": "code",
   "execution_count": 55,
   "id": "c7056abd",
   "metadata": {},
   "outputs": [],
   "source": [
    "#Print the Sentiment and Scores"
   ]
  },
  {
   "cell_type": "code",
   "execution_count": 56,
   "id": "9fa8b5e8",
   "metadata": {},
   "outputs": [
    {
     "name": "stdout",
     "output_type": "stream",
     "text": [
      "text: I love product! It's amazing. It's the best one\n"
     ]
    }
   ],
   "source": [
    "print(f\"text: {text}\")"
   ]
  },
  {
   "cell_type": "code",
   "execution_count": 57,
   "id": "168285bb",
   "metadata": {},
   "outputs": [
    {
     "name": "stdout",
     "output_type": "stream",
     "text": [
      "Sentiment: Positive\n"
     ]
    }
   ],
   "source": [
    "print(f\"Sentiment: {sentiment}\")"
   ]
  },
  {
   "cell_type": "code",
   "execution_count": 58,
   "id": "635beb48",
   "metadata": {},
   "outputs": [
    {
     "name": "stdout",
     "output_type": "stream",
     "text": [
      "Positive Score: 0.71\n"
     ]
    }
   ],
   "source": [
    "print(f\"Positive Score: {sentiment_scores['pos']:.2f}\")"
   ]
  },
  {
   "cell_type": "code",
   "execution_count": 59,
   "id": "570b448b",
   "metadata": {},
   "outputs": [
    {
     "name": "stdout",
     "output_type": "stream",
     "text": [
      "Negative Score: 0.00\n"
     ]
    }
   ],
   "source": [
    "print(f\"Negative Score: {sentiment_scores['neg']:.2f}\")"
   ]
  },
  {
   "cell_type": "code",
   "execution_count": 60,
   "id": "f2d6c464",
   "metadata": {},
   "outputs": [
    {
     "name": "stdout",
     "output_type": "stream",
     "text": [
      "Neutral Score: 0.29\n"
     ]
    }
   ],
   "source": [
    "print(f\"Neutral Score: {sentiment_scores['neu']:.2f}\")"
   ]
  },
  {
   "cell_type": "code",
   "execution_count": 61,
   "id": "e1b95b3a",
   "metadata": {},
   "outputs": [
    {
     "name": "stdout",
     "output_type": "stream",
     "text": [
      "Compound Score: 0.93\n"
     ]
    }
   ],
   "source": [
    "print(f\"Compound Score: {sentiment_scores['compound']:.2f}\")"
   ]
  },
  {
   "cell_type": "code",
   "execution_count": 62,
   "id": "257d02b9",
   "metadata": {},
   "outputs": [
    {
     "data": {
      "text/plain": [
       "{'neg': 0.0, 'neu': 0.286, 'pos': 0.714, 'compound': 0.9259}"
      ]
     },
     "execution_count": 62,
     "metadata": {},
     "output_type": "execute_result"
    }
   ],
   "source": [
    "sentiment_scores"
   ]
  },
  {
   "cell_type": "code",
   "execution_count": 63,
   "id": "4cb6dde5",
   "metadata": {},
   "outputs": [
    {
     "name": "stdout",
     "output_type": "stream",
     "text": [
      "Defaulting to user installation because normal site-packages is not writeableNote: you may need to restart the kernel to use updated packages.\n",
      "\n",
      "Collecting textblob\n",
      "  Downloading textblob-0.17.1-py2.py3-none-any.whl (636 kB)\n",
      "     ------------------------------------ 636.8/636.8 kB 342.7 kB/s eta 0:00:00\n",
      "Requirement already satisfied: nltk>=3.1 in c:\\programdata\\anaconda3\\lib\\site-packages (from textblob) (3.7)\n",
      "Requirement already satisfied: regex>=2021.8.3 in c:\\programdata\\anaconda3\\lib\\site-packages (from nltk>=3.1->textblob) (2022.7.9)\n",
      "Requirement already satisfied: tqdm in c:\\programdata\\anaconda3\\lib\\site-packages (from nltk>=3.1->textblob) (4.64.1)\n",
      "Requirement already satisfied: click in c:\\programdata\\anaconda3\\lib\\site-packages (from nltk>=3.1->textblob) (8.0.4)\n",
      "Requirement already satisfied: joblib in c:\\programdata\\anaconda3\\lib\\site-packages (from nltk>=3.1->textblob) (1.1.1)\n",
      "Requirement already satisfied: colorama in c:\\programdata\\anaconda3\\lib\\site-packages (from click->nltk>=3.1->textblob) (0.4.6)\n",
      "Installing collected packages: textblob\n",
      "Successfully installed textblob-0.17.1\n"
     ]
    }
   ],
   "source": [
    "pip install textblob"
   ]
  },
  {
   "cell_type": "code",
   "execution_count": 64,
   "id": "c57a6f5d",
   "metadata": {},
   "outputs": [],
   "source": [
    "# import the neccessary library"
   ]
  },
  {
   "cell_type": "code",
   "execution_count": 66,
   "id": "116598b8",
   "metadata": {},
   "outputs": [],
   "source": [
    "from textblob import TextBlob"
   ]
  },
  {
   "cell_type": "code",
   "execution_count": 67,
   "id": "a4cdc89b",
   "metadata": {},
   "outputs": [],
   "source": [
    "#Sample text for sentiment analysis"
   ]
  },
  {
   "cell_type": "code",
   "execution_count": 108,
   "id": "c283b3e6",
   "metadata": {},
   "outputs": [],
   "source": [
    "# text = \"I Love You!!\"\n",
    "# text = \"I don't Like You!!\"\n",
    "text = \"I hate Like You!!\""
   ]
  },
  {
   "cell_type": "code",
   "execution_count": 109,
   "id": "e39585f2",
   "metadata": {},
   "outputs": [],
   "source": [
    "#Create a TextBlob object"
   ]
  },
  {
   "cell_type": "code",
   "execution_count": 110,
   "id": "a92ef05c",
   "metadata": {},
   "outputs": [],
   "source": [
    "blob = TextBlob(text)"
   ]
  },
  {
   "cell_type": "code",
   "execution_count": 111,
   "id": "f42dddfc",
   "metadata": {},
   "outputs": [],
   "source": [
    "#Get the sentiment polarity"
   ]
  },
  {
   "cell_type": "code",
   "execution_count": 112,
   "id": "5efd1045",
   "metadata": {},
   "outputs": [],
   "source": [
    "sentiment_polarity = blob.sentiment.polarity"
   ]
  },
  {
   "cell_type": "code",
   "execution_count": 113,
   "id": "a136dd00",
   "metadata": {},
   "outputs": [
    {
     "name": "stdout",
     "output_type": "stream",
     "text": [
      "-1.0\n"
     ]
    }
   ],
   "source": [
    "print(sentiment_polarity)"
   ]
  },
  {
   "cell_type": "code",
   "execution_count": 114,
   "id": "6ae7ea9e",
   "metadata": {},
   "outputs": [],
   "source": [
    "#Interpret the sentiment polarity"
   ]
  },
  {
   "cell_type": "code",
   "execution_count": 115,
   "id": "8de0ec61",
   "metadata": {},
   "outputs": [],
   "source": [
    "if sentiment_polarity > 0:\n",
    "    sentiment = 'Positive'\n",
    "elif sentiment_polarity < 0:\n",
    "    sentiment = 'Negative'\n",
    "else:\n",
    "    sentiment = 'Neutral'"
   ]
  },
  {
   "cell_type": "code",
   "execution_count": 116,
   "id": "959e3301",
   "metadata": {},
   "outputs": [],
   "source": [
    "# print the sentiment and polarity"
   ]
  },
  {
   "cell_type": "code",
   "execution_count": 117,
   "id": "052b8480",
   "metadata": {},
   "outputs": [
    {
     "name": "stdout",
     "output_type": "stream",
     "text": [
      "Text: I hate Like You!!\n"
     ]
    }
   ],
   "source": [
    "print(f\"Text: {text}\")"
   ]
  },
  {
   "cell_type": "code",
   "execution_count": 118,
   "id": "777dcbc3",
   "metadata": {},
   "outputs": [
    {
     "name": "stdout",
     "output_type": "stream",
     "text": [
      "Sentiment: Negative\n"
     ]
    }
   ],
   "source": [
    "print(f\"Sentiment: {sentiment}\")"
   ]
  },
  {
   "cell_type": "code",
   "execution_count": 119,
   "id": "9e7eee9b",
   "metadata": {},
   "outputs": [
    {
     "name": "stdout",
     "output_type": "stream",
     "text": [
      "Polarity: -1.00\n"
     ]
    }
   ],
   "source": [
    "print(f\"Polarity: {sentiment_polarity:.2f}\")"
   ]
  },
  {
   "cell_type": "code",
   "execution_count": null,
   "id": "d953e592",
   "metadata": {},
   "outputs": [],
   "source": []
  }
 ],
 "metadata": {
  "kernelspec": {
   "display_name": "Python 3 (ipykernel)",
   "language": "python",
   "name": "python3"
  },
  "language_info": {
   "codemirror_mode": {
    "name": "ipython",
    "version": 3
   },
   "file_extension": ".py",
   "mimetype": "text/x-python",
   "name": "python",
   "nbconvert_exporter": "python",
   "pygments_lexer": "ipython3",
   "version": "3.10.9"
  }
 },
 "nbformat": 4,
 "nbformat_minor": 5
}
