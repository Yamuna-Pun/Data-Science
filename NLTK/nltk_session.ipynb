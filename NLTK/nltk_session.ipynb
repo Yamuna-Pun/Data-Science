{
 "cells": [
  {
   "cell_type": "code",
   "execution_count": 68,
   "id": "b072be4b",
   "metadata": {},
   "outputs": [],
   "source": [
    "import pandas as pd\n",
    "import numpy as np\n",
    "import nltk"
   ]
  },
  {
   "cell_type": "code",
   "execution_count": 114,
   "id": "8377601e",
   "metadata": {},
   "outputs": [],
   "source": [
    "from nltk.tokenize import sent_tokenize"
   ]
  },
  {
   "cell_type": "code",
   "execution_count": 70,
   "id": "e65674ee",
   "metadata": {},
   "outputs": [],
   "source": [
    "text = \"This tokenizer divides a text into a list of sentences by using an unsupervised algorithm to build a model for abbreviation words, collocations, and words that start sentences. It must be trained on a large collection of plaintext in the target language before it can be used.\""
   ]
  },
  {
   "cell_type": "code",
   "execution_count": 71,
   "id": "f006c3f6",
   "metadata": {},
   "outputs": [
    {
     "data": {
      "text/plain": [
       "['This tokenizer divides a text into a list of sentences by using an unsupervised algorithm to build a model for abbreviation words, collocations, and words that start sentences.',\n",
       " 'It must be trained on a large collection of plaintext in the target language before it can be used.']"
      ]
     },
     "execution_count": 71,
     "metadata": {},
     "output_type": "execute_result"
    }
   ],
   "source": [
    "token = sent_tokenize(text)\n",
    "token"
   ]
  },
  {
   "cell_type": "code",
   "execution_count": 72,
   "id": "18326cc2",
   "metadata": {},
   "outputs": [
    {
     "data": {
      "text/plain": [
       "FreqDist({'This tokenizer divides a text into a list of sentences by using an unsupervised algorithm to build a model for abbreviation words, collocations, and words that start sentences.': 1, 'It must be trained on a large collection of plaintext in the target language before it can be used.': 1})"
      ]
     },
     "execution_count": 72,
     "metadata": {},
     "output_type": "execute_result"
    }
   ],
   "source": [
    "from nltk.probability import FreqDist\n",
    "edist = FreqDist(token)\n",
    "edist"
   ]
  },
  {
   "cell_type": "code",
   "execution_count": 73,
   "id": "95378f8a",
   "metadata": {},
   "outputs": [],
   "source": [
    "txt = \"This is test. This is rest. this is nest\""
   ]
  },
  {
   "cell_type": "code",
   "execution_count": 74,
   "id": "31dd3bd1",
   "metadata": {},
   "outputs": [
    {
     "data": {
      "text/plain": [
       "['This is test.', 'This is rest.', 'this is nest']"
      ]
     },
     "execution_count": 74,
     "metadata": {},
     "output_type": "execute_result"
    }
   ],
   "source": [
    "token = sent_tokenize(txt)\n",
    "token"
   ]
  },
  {
   "cell_type": "code",
   "execution_count": 107,
   "id": "2054731b",
   "metadata": {},
   "outputs": [],
   "source": [
    "token = word_tokenize(txt)"
   ]
  },
  {
   "cell_type": "code",
   "execution_count": 108,
   "id": "3a1737a6",
   "metadata": {},
   "outputs": [
    {
     "data": {
      "text/plain": [
       "FreqDist({'s': 9, ' ': 8, 'i': 6, 't': 5, 'h': 3, 'e': 3, 'T': 2, '.': 2, 'r': 1, 'n': 1})"
      ]
     },
     "execution_count": 108,
     "metadata": {},
     "output_type": "execute_result"
    }
   ],
   "source": [
    "from nltk.probability import FreqDist\n",
    "fdist = FreqDist(txt)\n",
    "fdist"
   ]
  },
  {
   "cell_type": "code",
   "execution_count": 77,
   "id": "998b2d95",
   "metadata": {},
   "outputs": [
    {
     "data": {
      "text/plain": [
       "'s'"
      ]
     },
     "execution_count": 77,
     "metadata": {},
     "output_type": "execute_result"
    }
   ],
   "source": [
    "fdist.max()"
   ]
  },
  {
   "cell_type": "code",
   "execution_count": 38,
   "id": "9f67f2e6",
   "metadata": {},
   "outputs": [],
   "source": [
    "# To find the freqency of tap 10 words"
   ]
  },
  {
   "cell_type": "code",
   "execution_count": 39,
   "id": "7f2153fa",
   "metadata": {},
   "outputs": [
    {
     "name": "stderr",
     "output_type": "stream",
     "text": [
      "[nltk_data] Downloading package punkt to\n",
      "[nltk_data]     C:\\Users\\yamun\\AppData\\Roaming\\nltk_data...\n",
      "[nltk_data]   Package punkt is already up-to-date!\n",
      "[nltk_data] Downloading package stopwords to\n",
      "[nltk_data]     C:\\Users\\yamun\\AppData\\Roaming\\nltk_data...\n",
      "[nltk_data]   Package stopwords is already up-to-date!\n",
      "[nltk_data] Downloading package wordnet to\n",
      "[nltk_data]     C:\\Users\\yamun\\AppData\\Roaming\\nltk_data...\n",
      "[nltk_data]   Package wordnet is already up-to-date!\n",
      "[nltk_data] Error loading own-1.4: Package 'own-1.4' not found in\n",
      "[nltk_data]     index\n",
      "[nltk_data] Downloading package averaged_perceptron_tagger to\n",
      "[nltk_data]     C:\\Users\\yamun\\AppData\\Roaming\\nltk_data...\n",
      "[nltk_data]   Package averaged_perceptron_tagger is already up-to-\n",
      "[nltk_data]       date!\n"
     ]
    },
    {
     "data": {
      "text/plain": [
       "True"
      ]
     },
     "execution_count": 39,
     "metadata": {},
     "output_type": "execute_result"
    }
   ],
   "source": [
    "nltk.download('punkt')\n",
    "nltk.download('stopwords')\n",
    "nltk.download('wordnet')\n",
    "nltk.download('own-1.4')\n",
    "nltk.download('averaged_perceptron_tagger')"
   ]
  },
  {
   "cell_type": "code",
   "execution_count": 57,
   "id": "765340e6",
   "metadata": {},
   "outputs": [],
   "source": [
    "text = 'However, Punkt is designed to learn parameters (a list of abbreviations, etc.) unsupervised from a corpus similar to the target domain. The pre-packaged models may therefore be unsuitable: use PunktSentenceTokenizer(text) to learn parameters from the given text. '"
   ]
  },
  {
   "cell_type": "code",
   "execution_count": 86,
   "id": "04c001b1",
   "metadata": {},
   "outputs": [],
   "source": [
    "import nltk"
   ]
  },
  {
   "cell_type": "code",
   "execution_count": 90,
   "id": "fbf7513d",
   "metadata": {},
   "outputs": [],
   "source": [
    "from nltk.tokenize import word_tokenize\n",
    "from nltk.tokenize import sent_tokenize"
   ]
  },
  {
   "cell_type": "code",
   "execution_count": 93,
   "id": "5e9cfa8a",
   "metadata": {},
   "outputs": [],
   "source": [
    "test = \"I am Yamuna. I am form Dang. This is my test\""
   ]
  },
  {
   "cell_type": "code",
   "execution_count": 94,
   "id": "89b1f2e7",
   "metadata": {},
   "outputs": [
    {
     "data": {
      "text/plain": [
       "['I',\n",
       " 'am',\n",
       " 'Yamuna',\n",
       " '.',\n",
       " 'I',\n",
       " 'am',\n",
       " 'form',\n",
       " 'Dang',\n",
       " '.',\n",
       " 'This',\n",
       " 'is',\n",
       " 'my',\n",
       " 'test']"
      ]
     },
     "execution_count": 94,
     "metadata": {},
     "output_type": "execute_result"
    }
   ],
   "source": [
    "word_tokenize(test)"
   ]
  },
  {
   "cell_type": "code",
   "execution_count": 95,
   "id": "4174cc3d",
   "metadata": {
    "scrolled": false
   },
   "outputs": [
    {
     "data": {
      "text/plain": [
       "['I am Yamuna.', 'I am form Dang.', 'This is my test']"
      ]
     },
     "execution_count": 95,
     "metadata": {},
     "output_type": "execute_result"
    }
   ],
   "source": [
    "sent_tokenize(test)"
   ]
  },
  {
   "cell_type": "code",
   "execution_count": 81,
   "id": "e2a78f30",
   "metadata": {},
   "outputs": [
    {
     "data": {
      "text/plain": [
       "['This tokenizer divides a text into a list of sentences by using an unsupervised algorithm to build a model for abbreviation words, collocations, and words that start sentences.',\n",
       " 'It must be trained on a large collection of plaintext in the target language before it can be used.']"
      ]
     },
     "execution_count": 81,
     "metadata": {},
     "output_type": "execute_result"
    }
   ],
   "source": [
    "token = sent_tokenize(text)\n",
    "token"
   ]
  },
  {
   "cell_type": "code",
   "execution_count": null,
   "id": "f85a2617",
   "metadata": {},
   "outputs": [],
   "source": []
  },
  {
   "cell_type": "code",
   "execution_count": 99,
   "id": "bdecc778",
   "metadata": {},
   "outputs": [
    {
     "data": {
      "text/plain": [
       "[('s', 9), (' ', 8), ('i', 6), ('t', 5)]"
      ]
     },
     "execution_count": 99,
     "metadata": {},
     "output_type": "execute_result"
    }
   ],
   "source": [
    "freq = fdist.most_common(4)\n",
    "freq"
   ]
  },
  {
   "cell_type": "code",
   "execution_count": 96,
   "id": "c9eb8215",
   "metadata": {},
   "outputs": [],
   "source": [
    "import matplotlib.pyplot as plt"
   ]
  },
  {
   "cell_type": "code",
   "execution_count": 105,
   "id": "7e76f018",
   "metadata": {},
   "outputs": [
    {
     "data": {
      "image/png": "[encoded data removed]",
      "text/plain": [
       "<Figure size 640x480 with 1 Axes>"
      ]
     },
     "metadata": {},
     "output_type": "display_data"
    },
    {
     "data": {
      "text/plain": [
       "<Axes: xlabel='Samples', ylabel='Counts'>"
      ]
     },
     "execution_count": 105,
     "metadata": {},
     "output_type": "execute_result"
    }
   ],
   "source": [
    "fdist.plot(15)"
   ]
  },
  {
   "cell_type": "code",
   "execution_count": 104,
   "id": "836ca06e",
   "metadata": {},
   "outputs": [
    {
     "name": "stdout",
     "output_type": "stream",
     "text": [
      "{'only', \"it's\", \"needn't\", \"shan't\", 's', 'how', 'himself', \"didn't\", 'this', \"isn't\", 'did', 'hasn', \"haven't\", 'each', 'have', 'any', 'ain', 'mustn', 'after', 'on', 'just', 'not', 'we', 'isn', 'over', 'all', 'into', 'i', 'than', 'as', 'hadn', \"won't\", 'wouldn', 'y', 'then', 'her', 'below', 'yours', 'because', 'ourselves', 'was', 'myself', 'doesn', 'same', 'been', 'his', 'too', 'should', 'won', 'm', 'don', 'both', 'having', 'where', 'of', 'our', 'above', 'out', 'herself', 'about', \"she's\", 'for', 'an', 'who', 'them', 'couldn', 'other', \"couldn't\", 'once', 'at', 'when', \"don't\", 'am', 'through', 'to', 'll', 'mightn', 'such', \"that'll\", \"wasn't\", 'has', \"you'll\", 'during', 'down', 'aren', 'itself', 've', 'theirs', 'whom', 'do', 'now', 'few', 'it', \"doesn't\", 'and', \"hasn't\", 'its', 'between', 'up', 'their', 'the', 'from', 'hers', \"you'd\", 'further', 'which', 'under', 'themselves', \"aren't\", 'weren', 'off', 'there', 'most', 'no', 'so', 'o', 'she', 'you', 'more', 're', 'again', 'until', 'ours', 'were', \"weren't\", 'shan', 'own', 'yourself', 'or', \"you're\", 'can', 'wasn', 'he', 'these', 'are', 'be', 't', 'ma', \"mustn't\", 'your', 'against', 'had', 'shouldn', 'd', 'nor', 'him', 'haven', 'a', 'they', 'doing', 'before', 'with', \"wouldn't\", 'very', \"hadn't\", \"you've\", 'what', 'but', \"shouldn't\", 'by', 'while', \"mightn't\", 'that', 'why', 'those', \"should've\", 'does', 'some', 'needn', 'here', 'if', 'me', 'being', 'yourselves', 'in', 'didn', 'my', 'is', 'will'}\n"
     ]
    }
   ],
   "source": [
    "from nltk.corpus import stopwords\n",
    "stop_word = set(stopwords.words('english'))\n",
    "print(stop_word)"
   ]
  },
  {
   "cell_type": "code",
   "execution_count": 115,
   "id": "257ae0a4",
   "metadata": {},
   "outputs": [
    {
     "name": "stdout",
     "output_type": "stream",
     "text": [
      "['This', 'is', 'test', '.', 'This', 'is', 'rest', '.', 'this', 'is', 'nest']\n",
      "--------------\n",
      "['This', 'test', '.', 'This', 'rest', '.', 'nest']\n"
     ]
    }
   ],
   "source": [
    "filtered_sentence = []\n",
    "for w in token:\n",
    "    if w not in stop_word:\n",
    "        filtered_sentence.append(w)\n",
    "print(token)\n",
    "print('--------------')\n",
    "print(filtered_sentence)"
   ]
  },
  {
   "cell_type": "code",
   "execution_count": null,
   "id": "6f203d45",
   "metadata": {},
   "outputs": [],
   "source": []
  }
 ],
 "metadata": {
  "kernelspec": {
   "display_name": "Python 3 (ipykernel)",
   "language": "python",
   "name": "python3"
  },
  "language_info": {
   "codemirror_mode": {
    "name": "ipython",
    "version": 3
   },
   "file_extension": ".py",
   "mimetype": "text/x-python",
   "name": "python",
   "nbconvert_exporter": "python",
   "pygments_lexer": "ipython3",
   "version": "3.10.9"
  }
 },
 "nbformat": 4,
 "nbformat_minor": 5
}
