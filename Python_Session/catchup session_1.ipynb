{
 "cells": [
  {
   "cell_type": "markdown",
   "id": "8adbe2b7",
   "metadata": {},
   "source": [
    "# catchup session \n",
    "controls\n",
    "navigation\n",
    "getting\n",
    "used to"
   ]
  },
  {
   "cell_type": "code",
   "execution_count": 1,
   "id": "13ad5628",
   "metadata": {},
   "outputs": [
    {
     "name": "stdout",
     "output_type": "stream",
     "text": [
      "This is data science session\n"
     ]
    }
   ],
   "source": [
    "print(\"This is data science session\")"
   ]
  },
  {
   "cell_type": "code",
   "execution_count": 2,
   "id": "fe8ca444",
   "metadata": {},
   "outputs": [
    {
     "data": {
      "text/plain": [
       "'C:\\\\Users\\\\yamun\\\\data science'"
      ]
     },
     "execution_count": 2,
     "metadata": {},
     "output_type": "execute_result"
    }
   ],
   "source": [
    "pwd"
   ]
  },
  {
   "cell_type": "code",
   "execution_count": 3,
   "id": "b6b4bde6",
   "metadata": {},
   "outputs": [],
   "source": [
    "a = 22\n"
   ]
  },
  {
   "cell_type": "code",
   "execution_count": 4,
   "id": "ba4d0cad",
   "metadata": {},
   "outputs": [
    {
     "name": "stdout",
     "output_type": "stream",
     "text": [
      "22\n"
     ]
    }
   ],
   "source": [
    "print(a)"
   ]
  },
  {
   "cell_type": "code",
   "execution_count": 5,
   "id": "5660a3ad",
   "metadata": {},
   "outputs": [
    {
     "data": {
      "text/plain": [
       "22"
      ]
     },
     "execution_count": 5,
     "metadata": {},
     "output_type": "execute_result"
    }
   ],
   "source": [
    "a"
   ]
  },
  {
   "cell_type": "code",
   "execution_count": 6,
   "id": "de2245dd",
   "metadata": {},
   "outputs": [
    {
     "data": {
      "text/plain": [
       "33"
      ]
     },
     "execution_count": 6,
     "metadata": {},
     "output_type": "execute_result"
    }
   ],
   "source": [
    "b = 33\n",
    "b"
   ]
  },
  {
   "cell_type": "code",
   "execution_count": 7,
   "id": "35144851",
   "metadata": {},
   "outputs": [
    {
     "data": {
      "text/plain": [
       "55"
      ]
     },
     "execution_count": 7,
     "metadata": {},
     "output_type": "execute_result"
    }
   ],
   "source": [
    "a + b"
   ]
  },
  {
   "cell_type": "code",
   "execution_count": 8,
   "id": "bbd6867a",
   "metadata": {},
   "outputs": [
    {
     "data": {
      "text/plain": [
       "33"
      ]
     },
     "execution_count": 8,
     "metadata": {},
     "output_type": "execute_result"
    }
   ],
   "source": [
    "a\n",
    "b"
   ]
  },
  {
   "cell_type": "code",
   "execution_count": 9,
   "id": "8d39bdeb",
   "metadata": {},
   "outputs": [
    {
     "name": "stdout",
     "output_type": "stream",
     "text": [
      "1300497236880\n"
     ]
    }
   ],
   "source": [
    "print(id(a))"
   ]
  },
  {
   "cell_type": "code",
   "execution_count": 10,
   "id": "964e0da4",
   "metadata": {},
   "outputs": [
    {
     "name": "stdout",
     "output_type": "stream",
     "text": [
      "22\n",
      "33\n"
     ]
    }
   ],
   "source": [
    "print(a)\n",
    "print(b)"
   ]
  },
  {
   "cell_type": "code",
   "execution_count": 11,
   "id": "c80ec2f8",
   "metadata": {},
   "outputs": [
    {
     "name": "stdout",
     "output_type": "stream",
     "text": [
      "<class 'int'>\n"
     ]
    }
   ],
   "source": [
    "print(type(a))"
   ]
  },
  {
   "cell_type": "code",
   "execution_count": 12,
   "id": "56ee4e1b",
   "metadata": {},
   "outputs": [
    {
     "name": "stdout",
     "output_type": "stream",
     "text": [
      "55\n"
     ]
    }
   ],
   "source": [
    "a = 55\n",
    "print(a)"
   ]
  },
  {
   "cell_type": "code",
   "execution_count": 13,
   "id": "c6ebea21",
   "metadata": {},
   "outputs": [
    {
     "name": "stdout",
     "output_type": "stream",
     "text": [
      "1300497237936\n"
     ]
    }
   ],
   "source": [
    "\n",
    "print(id(a))"
   ]
  },
  {
   "cell_type": "code",
   "execution_count": 14,
   "id": "7c447314",
   "metadata": {},
   "outputs": [
    {
     "name": "stdout",
     "output_type": "stream",
     "text": [
      "1300497238640\n"
     ]
    }
   ],
   "source": [
    "a = 77\n",
    "print(id(a))"
   ]
  },
  {
   "cell_type": "code",
   "execution_count": 15,
   "id": "69284430",
   "metadata": {},
   "outputs": [
    {
     "data": {
      "text/plain": [
       "77"
      ]
     },
     "execution_count": 15,
     "metadata": {},
     "output_type": "execute_result"
    }
   ],
   "source": [
    "x = 77\n",
    "x"
   ]
  },
  {
   "cell_type": "code",
   "execution_count": 16,
   "id": "c7743b51",
   "metadata": {},
   "outputs": [
    {
     "name": "stdout",
     "output_type": "stream",
     "text": [
      "1300497238640\n"
     ]
    }
   ],
   "source": [
    "print(id(x))"
   ]
  },
  {
   "cell_type": "code",
   "execution_count": 17,
   "id": "c08a323e",
   "metadata": {},
   "outputs": [
    {
     "name": "stdout",
     "output_type": "stream",
     "text": [
      "This is test \n"
     ]
    }
   ],
   "source": [
    "print(\"This is test \")"
   ]
  },
  {
   "cell_type": "code",
   "execution_count": 24,
   "id": "d7862d77",
   "metadata": {},
   "outputs": [
    {
     "name": "stdout",
     "output_type": "stream",
     "text": [
      "Enter any number34\n"
     ]
    }
   ],
   "source": [
    " num1 = int(input(\"Enter any number\"))"
   ]
  },
  {
   "cell_type": "code",
   "execution_count": 25,
   "id": "262c7b68",
   "metadata": {},
   "outputs": [
    {
     "name": "stdout",
     "output_type": "stream",
     "text": [
      "This is test\n"
     ]
    }
   ],
   "source": [
    "print(\"This is test\")"
   ]
  },
  {
   "cell_type": "code",
   "execution_count": 26,
   "id": "eaab4216",
   "metadata": {},
   "outputs": [
    {
     "ename": "SyntaxError",
     "evalue": "invalid syntax (3777738608.py, line 1)",
     "output_type": "error",
     "traceback": [
      "\u001b[1;36m  Cell \u001b[1;32mIn[26], line 1\u001b[1;36m\u001b[0m\n\u001b[1;33m    if your test not finished this side not continue work in fornt side\u001b[0m\n\u001b[1;37m            ^\u001b[0m\n\u001b[1;31mSyntaxError\u001b[0m\u001b[1;31m:\u001b[0m invalid syntax\n"
     ]
    }
   ],
   "source": [
    "if your test not finished this side not continue work in fornt side"
   ]
  },
  {
   "cell_type": "code",
   "execution_count": 27,
   "id": "adf15f8b",
   "metadata": {},
   "outputs": [
    {
     "name": "stdout",
     "output_type": "stream",
     "text": [
      "Enter any number\n",
      "<class 'str'>\n"
     ]
    }
   ],
   "source": [
    "n1 = input(\"Enter any number\") # shif + tab hanne for detail of methods\n",
    "print(type(n1))"
   ]
  },
  {
   "cell_type": "markdown",
   "id": "55edb9a0",
   "metadata": {},
   "source": [
    "<!-- n1 = n1 + '300' -->\n",
    "<!-- n1 -->"
   ]
  },
  {
   "cell_type": "code",
   "execution_count": 28,
   "id": "068712e8",
   "metadata": {},
   "outputs": [
    {
     "data": {
      "text/plain": [
       "'300'"
      ]
     },
     "execution_count": 28,
     "metadata": {},
     "output_type": "execute_result"
    }
   ],
   "source": [
    "n1 = n1 + '300'\n",
    "n1"
   ]
  },
  {
   "cell_type": "code",
   "execution_count": 29,
   "id": "5965e997",
   "metadata": {},
   "outputs": [
    {
     "name": "stdout",
     "output_type": "stream",
     "text": [
      "<50\n"
     ]
    }
   ],
   "source": [
    "if a > 50:\n",
    "    print(\">50\")\n",
    "else:\n",
    "     print(\"<50\")"
   ]
  },
  {
   "cell_type": "code",
   "execution_count": 30,
   "id": "c197b6d6",
   "metadata": {},
   "outputs": [
    {
     "name": "stdout",
     "output_type": "stream",
     "text": [
      "<50\n"
     ]
    }
   ],
   "source": [
    "a = 33\n",
    "if a > 50:\n",
    "    print(\">50\")\n",
    "else:\n",
    "        print(\"<50\")"
   ]
  },
  {
   "cell_type": "code",
   "execution_count": 31,
   "id": "5d4ffde1",
   "metadata": {},
   "outputs": [
    {
     "name": "stdout",
     "output_type": "stream",
     "text": [
      "=50\n"
     ]
    }
   ],
   "source": [
    "a = 50\n",
    "if a > 50:\n",
    "    print(\">50\")\n",
    "elif a == 50:\n",
    "     print(\"=50\")\n",
    "else:\n",
    "    print(\"<50\")"
   ]
  },
  {
   "cell_type": "code",
   "execution_count": null,
   "id": "7789d1f6",
   "metadata": {},
   "outputs": [],
   "source": []
  }
 ],
 "metadata": {
  "kernelspec": {
   "display_name": "Python 3 (ipykernel)",
   "language": "python",
   "name": "python3"
  },
  "language_info": {
   "codemirror_mode": {
    "name": "ipython",
    "version": 3
   },
   "file_extension": ".py",
   "mimetype": "text/x-python",
   "name": "python",
   "nbconvert_exporter": "python",
   "pygments_lexer": "ipython3",
   "version": "3.10.9"
  }
 },
 "nbformat": 4,
 "nbformat_minor": 5
}
