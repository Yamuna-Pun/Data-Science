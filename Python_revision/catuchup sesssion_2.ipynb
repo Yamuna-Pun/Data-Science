{
 "cells": [
  {
   "cell_type": "code",
   "execution_count": 1,
   "id": "1eadf810",
   "metadata": {},
   "outputs": [
    {
     "name": "stdout",
     "output_type": "stream",
     "text": [
      "Enter any possitive number50\n",
      "<100\n"
     ]
    }
   ],
   "source": [
    "num = int(input(\"Enter any possitive number\"))\n",
    "if num > 0:\n",
    "    if num>100:\n",
    "        print(\">100\")\n",
    "    elif num == 100:\n",
    "        print(\"=100\")\n",
    "    else:\n",
    "        print(\"<100\")\n",
    "else:\n",
    "    print(\"-ve number not expected\")\n",
    "            "
   ]
  },
  {
   "cell_type": "code",
   "execution_count": 2,
   "id": "e5f1dfca",
   "metadata": {},
   "outputs": [],
   "source": [
    "#enter 222,5,-5, as input in above program"
   ]
  },
  {
   "cell_type": "code",
   "execution_count": 15,
   "id": "d3982f8d",
   "metadata": {},
   "outputs": [
    {
     "name": "stdout",
     "output_type": "stream",
     "text": [
      "Enter your nameYamuna\n",
      "name is kathmandu\n"
     ]
    }
   ],
   "source": [
    "n = name\n",
    "name = input(\"Enter your name\")\n",
    "print(f\"name is {n}\")"
   ]
  },
  {
   "cell_type": "code",
   "execution_count": 16,
   "id": "804cbbb6",
   "metadata": {},
   "outputs": [
    {
     "data": {
      "text/plain": [
       "6"
      ]
     },
     "execution_count": 16,
     "metadata": {},
     "output_type": "execute_result"
    }
   ],
   "source": [
    "a = len(name)\n",
    "a"
   ]
  },
  {
   "cell_type": "code",
   "execution_count": 17,
   "id": "18bc976e",
   "metadata": {},
   "outputs": [],
   "source": [
    "#list secrion"
   ]
  },
  {
   "cell_type": "code",
   "execution_count": 18,
   "id": "35b90b74",
   "metadata": {},
   "outputs": [],
   "source": [
    "fruits = []"
   ]
  },
  {
   "cell_type": "code",
   "execution_count": 19,
   "id": "6bb8c56f",
   "metadata": {},
   "outputs": [
    {
     "data": {
      "text/plain": [
       "list"
      ]
     },
     "execution_count": 19,
     "metadata": {},
     "output_type": "execute_result"
    }
   ],
   "source": [
    "type(fruits)"
   ]
  },
  {
   "cell_type": "code",
   "execution_count": 20,
   "id": "f8e53c67",
   "metadata": {},
   "outputs": [
    {
     "name": "stdout",
     "output_type": "stream",
     "text": [
      "<class 'list'>\n"
     ]
    }
   ],
   "source": [
    "sports = []\n",
    "print(type(sports))"
   ]
  },
  {
   "cell_type": "code",
   "execution_count": 45,
   "id": "2a2346d5",
   "metadata": {},
   "outputs": [],
   "source": [
    "fruits = ['apple', 'banana','peach','mango','apple']"
   ]
  },
  {
   "cell_type": "code",
   "execution_count": 46,
   "id": "f8e8595a",
   "metadata": {},
   "outputs": [
    {
     "data": {
      "text/plain": [
       "'apple'"
      ]
     },
     "execution_count": 46,
     "metadata": {},
     "output_type": "execute_result"
    }
   ],
   "source": [
    "fruits.pop()"
   ]
  },
  {
   "cell_type": "code",
   "execution_count": 47,
   "id": "0106b328",
   "metadata": {},
   "outputs": [],
   "source": [
    "name = 'kathmandu'"
   ]
  },
  {
   "cell_type": "code",
   "execution_count": 48,
   "id": "80513471",
   "metadata": {},
   "outputs": [
    {
     "data": {
      "text/plain": [
       "'k'"
      ]
     },
     "execution_count": 48,
     "metadata": {},
     "output_type": "execute_result"
    }
   ],
   "source": [
    "name[0]"
   ]
  },
  {
   "cell_type": "code",
   "execution_count": 49,
   "id": "caedf413",
   "metadata": {},
   "outputs": [],
   "source": [
    "# . tap,"
   ]
  },
  {
   "cell_type": "code",
   "execution_count": 63,
   "id": "7969a4ea",
   "metadata": {},
   "outputs": [],
   "source": [
    "fruits = ['apple', 'banana','peach','mango','apple']"
   ]
  },
  {
   "cell_type": "code",
   "execution_count": 64,
   "id": "89f3f5b4",
   "metadata": {},
   "outputs": [],
   "source": [
    "t1 = (22,33)"
   ]
  },
  {
   "cell_type": "code",
   "execution_count": 65,
   "id": "bf7e0251",
   "metadata": {},
   "outputs": [
    {
     "data": {
      "text/plain": [
       "tuple"
      ]
     },
     "execution_count": 65,
     "metadata": {},
     "output_type": "execute_result"
    }
   ],
   "source": [
    "type(t1)"
   ]
  },
  {
   "cell_type": "code",
   "execution_count": 66,
   "id": "222b27f4",
   "metadata": {
    "scrolled": true
   },
   "outputs": [
    {
     "name": "stdout",
     "output_type": "stream",
     "text": [
      "[11, 22, 55, 234, 67, 88]\n"
     ]
    }
   ],
   "source": [
    "nums = [11,22,55,234,67,88]\n",
    "print(nums)"
   ]
  },
  {
   "cell_type": "code",
   "execution_count": 67,
   "id": "e54a8f99",
   "metadata": {},
   "outputs": [
    {
     "name": "stdout",
     "output_type": "stream",
     "text": [
      "[11, 22, 55, 234, 67, 88]\n"
     ]
    }
   ],
   "source": [
    "i = nums \n",
    "print(i)\n"
   ]
  },
  {
   "cell_type": "code",
   "execution_count": 68,
   "id": "cadb2516",
   "metadata": {},
   "outputs": [],
   "source": [
    "i = 22"
   ]
  },
  {
   "cell_type": "code",
   "execution_count": null,
   "id": "05f14d37",
   "metadata": {},
   "outputs": [],
   "source": [
    "for i in nums:\n",
    "    if i == 1:\n",
    "       print(f\"{i is here}\")"
   ]
  },
  {
   "cell_type": "code",
   "execution_count": null,
   "id": "6d676b8e",
   "metadata": {},
   "outputs": [],
   "source": [
    "n = int(input(\"Enter the number to check: \"))\n",
    "for i in nums:\n",
    "    if i == n:\n",
    "        print(f\"{n} is here\")\n",
    "        "
   ]
  },
  {
   "cell_type": "code",
   "execution_count": null,
   "id": "09345831",
   "metadata": {},
   "outputs": [],
   "source": [
    "n = int(input(\"Enter the number to check: \"))\n",
    "for i in nums:\n",
    "    if i == n:\n",
    "        print(f\"{n} is here\")\n",
    "        else:\n",
    "            print(f\"{n} is not here\")\n",
    "        "
   ]
  },
  {
   "cell_type": "code",
   "execution_count": null,
   "id": "668862f8",
   "metadata": {},
   "outputs": [],
   "source": [
    "count = 0\n",
    "n = int(input(\"Enter the number to check: \"))\n",
    "for i in nums:\n",
    "    if i == n:()\n",
    "        count+=1\n",
    "if count == 0:\n",
    "    print(f\"{n} is not here\")\n",
    "else:\n",
    "    print(f\"{n} is here\")\n",
    "        "
   ]
  },
  {
   "cell_type": "code",
   "execution_count": null,
   "id": "2a812ced",
   "metadata": {},
   "outputs": [],
   "source": [
    "if n in num:\n",
    "    print(\"found\")\n",
    "else:\n",
    "    print(\"not found\")"
   ]
  },
  {
   "cell_type": "code",
   "execution_count": null,
   "id": "509011a0",
   "metadata": {},
   "outputs": [],
   "source": [
    "# function"
   ]
  },
  {
   "cell_type": "code",
   "execution_count": null,
   "id": "655d4b80",
   "metadata": {},
   "outputs": [],
   "source": [
    "def task_handler():\n",
    "    count = 0\n",
    "    n = int(input(\"Enter the number of check: \"))\n",
    "    for i in nums:\n",
    "        if i == n:\n",
    "            count+=1\n",
    "            return n,count"
   ]
  },
  {
   "cell_type": "code",
   "execution_count": 44,
   "id": "1e567ff2",
   "metadata": {},
   "outputs": [
    {
     "data": {
      "text/plain": [
       "dict"
      ]
     },
     "execution_count": 44,
     "metadata": {},
     "output_type": "execute_result"
    }
   ],
   "source": [
    "student = {}\n",
    "type(student)"
   ]
  },
  {
   "cell_type": "code",
   "execution_count": 52,
   "id": "50e70871",
   "metadata": {},
   "outputs": [],
   "source": [
    "student = {\n",
    "    'name': 'ram',\n",
    "    'age': 22,\n",
    "    'mark': 55.3,\n",
    "    'active': True\n",
    " }"
   ]
  },
  {
   "cell_type": "code",
   "execution_count": 53,
   "id": "f2d24ab6",
   "metadata": {},
   "outputs": [
    {
     "data": {
      "text/plain": [
       "{'name': 'ram', 'age': 22, 'mark': 55.3, 'active': True}"
      ]
     },
     "execution_count": 53,
     "metadata": {},
     "output_type": "execute_result"
    }
   ],
   "source": [
    "student"
   ]
  },
  {
   "cell_type": "code",
   "execution_count": 54,
   "id": "3e85e6bc",
   "metadata": {},
   "outputs": [
    {
     "data": {
      "text/plain": [
       "dict_items([('name', 'ram'), ('age', 22), ('mark', 55.3), ('active', True)])"
      ]
     },
     "execution_count": 54,
     "metadata": {},
     "output_type": "execute_result"
    }
   ],
   "source": [
    "student.items()"
   ]
  },
  {
   "cell_type": "code",
   "execution_count": 55,
   "id": "bdedec92",
   "metadata": {},
   "outputs": [
    {
     "data": {
      "text/plain": [
       "91"
      ]
     },
     "execution_count": 55,
     "metadata": {},
     "output_type": "execute_result"
    }
   ],
   "source": [
    "mark = [77,77,91,81,71]\n",
    "max(mark)"
   ]
  },
  {
   "cell_type": "code",
   "execution_count": 56,
   "id": "ae0d5b0e",
   "metadata": {},
   "outputs": [
    {
     "data": {
      "text/plain": [
       "71"
      ]
     },
     "execution_count": 56,
     "metadata": {},
     "output_type": "execute_result"
    }
   ],
   "source": [
    "min(mark)"
   ]
  },
  {
   "cell_type": "code",
   "execution_count": 58,
   "id": "61315e50",
   "metadata": {},
   "outputs": [
    {
     "data": {
      "text/plain": [
       "397"
      ]
     },
     "execution_count": 58,
     "metadata": {},
     "output_type": "execute_result"
    }
   ],
   "source": [
    "sum(mark)"
   ]
  },
  {
   "cell_type": "code",
   "execution_count": 60,
   "id": "31fc5f17",
   "metadata": {},
   "outputs": [
    {
     "data": {
      "text/plain": [
       "79.4"
      ]
     },
     "execution_count": 60,
     "metadata": {},
     "output_type": "execute_result"
    }
   ],
   "source": [
    "total = sum(mark)\n",
    "total/len(mark)"
   ]
  },
  {
   "cell_type": "code",
   "execution_count": null,
   "id": "38dcf4b0",
   "metadata": {},
   "outputs": [],
   "source": []
  }
 ],
 "metadata": {
  "kernelspec": {
   "display_name": "Python 3 (ipykernel)",
   "language": "python",
   "name": "python3"
  },
  "language_info": {
   "codemirror_mode": {
    "name": "ipython",
    "version": 3
   },
   "file_extension": ".py",
   "mimetype": "text/x-python",
   "name": "python",
   "nbconvert_exporter": "python",
   "pygments_lexer": "ipython3",
   "version": "3.10.9"
  }
 },
 "nbformat": 4,
 "nbformat_minor": 5
}
